{
 "cells": [
  {
   "cell_type": "code",
   "execution_count": 1,
   "id": "3d0ddbac",
   "metadata": {},
   "outputs": [],
   "source": [
    "import pandas as pd\n",
    "import numpy as np\n",
    "\n",
    "from collections import namedtuple\n",
    "import json"
   ]
  },
  {
   "cell_type": "code",
   "execution_count": 2,
   "id": "f77beb81",
   "metadata": {},
   "outputs": [],
   "source": [
    "SurveyRow = namedtuple(\n",
    "    'SurveyRow', \n",
    "    ['attempts', 'difficulty', 'fun', 'isDev', 'levelID', 'playerGaveUp', 'playerID']\n",
    ")\n",
    "\n",
    "AttemptRow = namedtuple(\n",
    "    'AttemptRow', \n",
    "    ['attemptID', 'diedFrom', 'isDev', 'levelID', 'playerID', 'staminaLeft', 'time', 'won']\n",
    ")"
   ]
  },
  {
   "cell_type": "markdown",
   "id": "6af15132",
   "metadata": {},
   "source": [
    "**NOTE:** `../backup.json` comes from a paper in the PCG Workshop titled, \"Solution Path Heuristics for Predicting Difficulty and Enjoyment Ratings of Roguelike Level Segments\". The paper is not yet online, but I'll try to remember to add a link when it is. Further, the data is not yet publically available, so you won't be able to find the json file, but I should be making it public soon, and I'll again add a link."
   ]
  },
  {
   "cell_type": "code",
   "execution_count": 3,
   "id": "ca49f3e8",
   "metadata": {},
   "outputs": [],
   "source": [
    "SURVEY = 'survey_0.0.1'\n",
    "ATTEMPT = 'attempt_0.0.1'\n",
    "\n",
    "survey_data = []\n",
    "attempt_data = []\n",
    "with open('../backup.json') as f:\n",
    "    json_data = json.load(f)\n",
    "    for r in json_data['__collections__'][SURVEY].values():\n",
    "        survey_data.append(SurveyRow(\n",
    "            r['attempts'],\n",
    "            r['difficulty'],\n",
    "            r['fun'],\n",
    "            r['isDev'],\n",
    "            r['levelID'],\n",
    "            r['playerGaveUp'],\n",
    "            r['playerID'],\n",
    "        ))\n",
    "        \n",
    "    for r in json_data['__collections__'][ATTEMPT].values():\n",
    "        attempt_data.append(AttemptRow(\n",
    "            r['attemptID'],\n",
    "            r['diedFrom'],\n",
    "            r['isDev'],\n",
    "            r['levelID'],\n",
    "            r['playerID'],\n",
    "            r['stamina-left'],\n",
    "            r['time'],\n",
    "            r['won'],\n",
    "        ))"
   ]
  },
  {
   "cell_type": "code",
   "execution_count": 4,
   "id": "d9c12a7c",
   "metadata": {},
   "outputs": [],
   "source": [
    "survey_df = pd.DataFrame(survey_data)\n",
    "attempt_df = pd.DataFrame(attempt_data)"
   ]
  },
  {
   "cell_type": "code",
   "execution_count": null,
   "id": "40fcb185",
   "metadata": {},
   "outputs": [],
   "source": [
    "new_df = survey_df[survey_df['isDev'] == False].groupby('levelID').mean()"
   ]
  },
  {
   "cell_type": "code",
   "execution_count": null,
   "id": "5ad91992",
   "metadata": {},
   "outputs": [],
   "source": [
    "new_df.drop(['attempts', 'isDev', 'playerGaveUp'], axis=1).to_csv('../level_to_stats.csv')"
   ]
  }
 ],
 "metadata": {
  "kernelspec": {
   "display_name": "Python 3 (ipykernel)",
   "language": "python",
   "name": "python3"
  },
  "language_info": {
   "codemirror_mode": {
    "name": "ipython",
    "version": 3
   },
   "file_extension": ".py",
   "mimetype": "text/x-python",
   "name": "python",
   "nbconvert_exporter": "python",
   "pygments_lexer": "ipython3",
   "version": "3.8.8"
  }
 },
 "nbformat": 4,
 "nbformat_minor": 5
}
